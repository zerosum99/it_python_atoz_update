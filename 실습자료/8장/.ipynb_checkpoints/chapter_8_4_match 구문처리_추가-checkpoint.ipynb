{
 "cells": [
  {
   "cell_type": "markdown",
   "metadata": {},
   "source": [
    "## 파이썬 3.10부터는 match 문법이 도입"
   ]
  },
  {
   "cell_type": "markdown",
   "metadata": {},
   "source": [
    "## 특정 값을 매칭 처리"
   ]
  },
  {
   "cell_type": "code",
   "execution_count": 13,
   "metadata": {},
   "outputs": [],
   "source": [
    "value = 10"
   ]
  },
  {
   "cell_type": "code",
   "execution_count": 14,
   "metadata": {},
   "outputs": [
    {
     "name": "stdout",
     "output_type": "stream",
     "text": [
      "Value is something else\n"
     ]
    }
   ],
   "source": [
    "match value:\n",
    "    case 0:\n",
    "        print(\"Value is zero\")\n",
    "    case 1:\n",
    "        print(\"Value is one\")\n",
    "    case 2:\n",
    "        print(\"Value is two\")\n",
    "    case _:\n",
    "        print(\"Value is something else\")"
   ]
  },
  {
   "cell_type": "markdown",
   "metadata": {},
   "source": [
    "## 여러 개의 값을 매칭 처리"
   ]
  },
  {
   "cell_type": "code",
   "execution_count": 15,
   "metadata": {},
   "outputs": [],
   "source": [
    "value = 3"
   ]
  },
  {
   "cell_type": "code",
   "execution_count": 16,
   "metadata": {},
   "outputs": [
    {
     "name": "stdout",
     "output_type": "stream",
     "text": [
      "Value is one\n"
     ]
    }
   ],
   "source": [
    "match value:\n",
    "    case 0:\n",
    "        print(\"Value is zero\")\n",
    "    case 1 |2|3|4:\n",
    "        print(\"Value is one\")\n",
    "    case 5:\n",
    "        print(\"Value is two\")\n",
    "    case _:\n",
    "        print(\"Value is something else\")"
   ]
  },
  {
   "cell_type": "markdown",
   "metadata": {},
   "source": [
    "## 특정 조건에 가드를 지정해서 패턴을 매칭하기 "
   ]
  },
  {
   "cell_type": "code",
   "execution_count": 17,
   "metadata": {},
   "outputs": [],
   "source": [
    "number = -10"
   ]
  },
  {
   "cell_type": "code",
   "execution_count": 18,
   "metadata": {},
   "outputs": [
    {
     "name": "stdout",
     "output_type": "stream",
     "text": [
      "Number is negative\n"
     ]
    }
   ],
   "source": [
    "match number:\n",
    "    case 0:\n",
    "        print(\"Number is zero\")\n",
    "    case x if x > 0:\n",
    "        print(\"Number is positive\")\n",
    "    case x if x < 0:\n",
    "         print(\"Number is negative\")\n",
    "    case _:\n",
    "        print(\"Number is something else\")"
   ]
  },
  {
   "cell_type": "markdown",
   "metadata": {},
   "source": [
    "## 리스트 매칭 "
   ]
  },
  {
   "cell_type": "code",
   "execution_count": 19,
   "metadata": {},
   "outputs": [],
   "source": [
    "lst = [1,3.4]"
   ]
  },
  {
   "cell_type": "code",
   "execution_count": 20,
   "metadata": {},
   "outputs": [
    {
     "name": "stdout",
     "output_type": "stream",
     "text": [
      "List has at least one element\n"
     ]
    }
   ],
   "source": [
    " match lst:\n",
    "    case [1, 2, 3]:\n",
    "        print(\"List matches [1, 2, 3]\")\n",
    "    case [4, _, _]:\n",
    "        print(\"List starts with 4 and has two more elements\")\n",
    "    case [_, *_]:\n",
    "        print(\"List has at least one element\")\n",
    "    case _:\n",
    "         print(\"Empty list\")"
   ]
  },
  {
   "cell_type": "markdown",
   "metadata": {},
   "source": [
    "## 클래스 유형 매칭"
   ]
  },
  {
   "cell_type": "code",
   "execution_count": 21,
   "metadata": {},
   "outputs": [
    {
     "name": "stdout",
     "output_type": "stream",
     "text": [
      "Processing a dog\n",
      "Processing a cat\n",
      "Processing an animal\n"
     ]
    }
   ],
   "source": [
    "class Animal:\n",
    "    def speak(self):\n",
    "        pass\n",
    "\n",
    "class Dog(Animal):\n",
    "    def speak(self):\n",
    "        print(\"Woof!\")\n",
    "\n",
    "class Cat(Animal):\n",
    "    def speak(self):\n",
    "        print(\"Meow!\")\n",
    "\n",
    "def process_animal(animal):\n",
    "    match animal:\n",
    "        case Dog():\n",
    "            print(\"Processing a dog\")\n",
    "        case Cat():\n",
    "            print(\"Processing a cat\")\n",
    "        case _:\n",
    "            print(\"Processing an animal\")\n",
    "\n",
    "dog = Dog()\n",
    "cat = Cat()\n",
    "animal = Animal()\n",
    "\n",
    "process_animal(dog)     # 출력: Processing a dog\n",
    "process_animal(cat)     # 출력: Processing a cat\n",
    "process_animal(animal)  # 출력: Processing an animal"
   ]
  },
  {
   "cell_type": "code",
   "execution_count": null,
   "metadata": {},
   "outputs": [],
   "source": []
  },
  {
   "cell_type": "markdown",
   "metadata": {},
   "source": [
    "## 객체 유형 매칭 "
   ]
  },
  {
   "cell_type": "code",
   "execution_count": null,
   "metadata": {},
   "outputs": [],
   "source": []
  },
  {
   "cell_type": "code",
   "execution_count": 22,
   "metadata": {},
   "outputs": [],
   "source": [
    "class Circle:\n",
    "    def __init__(self, radius):\n",
    "        self.radius = radius\n",
    "\n",
    "class Rectangle:\n",
    "    def __init__(self, width, height):\n",
    "        self.width = width\n",
    "        self.height = height\n"
   ]
  },
  {
   "cell_type": "code",
   "execution_count": 23,
   "metadata": {},
   "outputs": [],
   "source": [
    "circle = Circle(5)\n",
    "rectangle = Rectangle(10, 20)"
   ]
  },
  {
   "cell_type": "code",
   "execution_count": 24,
   "metadata": {},
   "outputs": [],
   "source": [
    "shape = circle"
   ]
  },
  {
   "cell_type": "code",
   "execution_count": 25,
   "metadata": {},
   "outputs": [
    {
     "name": "stdout",
     "output_type": "stream",
     "text": [
      "Circle with radius\n"
     ]
    }
   ],
   "source": [
    "match shape:\n",
    "    case Circle(radius=5) :\n",
    "        print(f\"Circle with radius\")\n",
    "    case Rectangle(width=10, height=20):\n",
    "        print(f\"Rectangle with width  and height \")\n",
    "    case _:\n",
    "        print(\"Unknown shape\")"
   ]
  },
  {
   "cell_type": "code",
   "execution_count": 26,
   "metadata": {},
   "outputs": [],
   "source": [
    "shape = rectangle"
   ]
  },
  {
   "cell_type": "code",
   "execution_count": 27,
   "metadata": {},
   "outputs": [
    {
     "name": "stdout",
     "output_type": "stream",
     "text": [
      "Rectangle with width  and height \n"
     ]
    }
   ],
   "source": [
    "match shape:\n",
    "    case Circle(radius=5) :\n",
    "        print(f\"Circle with radius\")\n",
    "    case Rectangle(width=10, height=20):\n",
    "        print(f\"Rectangle with width  and height \")\n",
    "    case _:\n",
    "        print(\"Unknown shape\")"
   ]
  },
  {
   "cell_type": "markdown",
   "metadata": {},
   "source": [
    "## 이넘 매칭 처리"
   ]
  },
  {
   "cell_type": "code",
   "execution_count": 29,
   "metadata": {},
   "outputs": [
    {
     "name": "stdout",
     "output_type": "stream",
     "text": [
      "Processing red color\n",
      "Processing green color\n",
      "Processing blue color\n",
      "Processing unknown color\n"
     ]
    }
   ],
   "source": [
    "from enum import Enum\n",
    "\n",
    "class Color(Enum):\n",
    "    RED = 1\n",
    "    GREEN = 2\n",
    "    BLUE = 3\n",
    "    YELLOW = 4\n",
    "\n",
    "def process_color(color):\n",
    "    match color:\n",
    "        case Color.RED:\n",
    "            print(\"Processing red color\")\n",
    "        case Color.GREEN:\n",
    "            print(\"Processing green color\")\n",
    "        case Color.BLUE:\n",
    "            print(\"Processing blue color\")\n",
    "        case _:\n",
    "            print(\"Processing unknown color\")\n",
    "\n",
    "process_color(Color.RED)    # 출력: Processing red color\n",
    "process_color(Color.GREEN)  # 출력: Processing green color\n",
    "process_color(Color.BLUE)   # 출력: Processing blue color\n",
    "process_color(Color.YELLOW) # 출력: Processing unknown color"
   ]
  },
  {
   "cell_type": "code",
   "execution_count": null,
   "metadata": {},
   "outputs": [],
   "source": []
  },
  {
   "cell_type": "code",
   "execution_count": null,
   "metadata": {},
   "outputs": [],
   "source": []
  },
  {
   "cell_type": "code",
   "execution_count": null,
   "metadata": {},
   "outputs": [],
   "source": []
  },
  {
   "cell_type": "code",
   "execution_count": null,
   "metadata": {},
   "outputs": [],
   "source": []
  }
 ],
 "metadata": {
  "kernelspec": {
   "display_name": "Python 3 (ipykernel)",
   "language": "python",
   "name": "python3"
  },
  "language_info": {
   "codemirror_mode": {
    "name": "ipython",
    "version": 3
   },
   "file_extension": ".py",
   "mimetype": "text/x-python",
   "name": "python",
   "nbconvert_exporter": "python",
   "pygments_lexer": "ipython3",
   "version": "3.11.3"
  }
 },
 "nbformat": 4,
 "nbformat_minor": 2
}
