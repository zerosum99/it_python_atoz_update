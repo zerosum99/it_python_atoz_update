{
 "cells": [
  {
   "cell_type": "markdown",
   "id": "65fd2f50",
   "metadata": {},
   "source": [
    "## 할당표현식 \n",
    "\n",
    "- 파이썬 3.8부터 도입된 할당 표현식(Assignment Expressions)은 := 연산자를 사용하여 값을 변수에 할당하는 기능을 제공합니다. \n",
    "- 이를 통해 한 줄로 변수를 선언하고 값을 할당할 수 있습니다.\n"
   ]
  },
  {
   "cell_type": "code",
   "execution_count": 2,
   "id": "90c9f3c1",
   "metadata": {},
   "outputs": [],
   "source": [
    "calculate_value = 20"
   ]
  },
  {
   "cell_type": "code",
   "execution_count": 4,
   "id": "0c59e75d",
   "metadata": {},
   "outputs": [
    {
     "name": "stdout",
     "output_type": "stream",
     "text": [
      "x is greater than 10\n"
     ]
    }
   ],
   "source": [
    "# 조건문 내에서 할당 표현식 사용하기\n",
    "if (x := calculate_value > 10) :\n",
    "    print(\"x is greater than 10\")"
   ]
  },
  {
   "cell_type": "code",
   "execution_count": null,
   "id": "e7837523",
   "metadata": {},
   "outputs": [],
   "source": []
  },
  {
   "cell_type": "code",
   "execution_count": 9,
   "id": "35f62fd0",
   "metadata": {},
   "outputs": [],
   "source": [
    "count = 0"
   ]
  },
  {
   "cell_type": "code",
   "execution_count": 11,
   "id": "232bf16d",
   "metadata": {},
   "outputs": [
    {
     "name": "stdout",
     "output_type": "stream",
     "text": [
      "0\n",
      "1\n",
      "2\n",
      "3\n",
      "4\n"
     ]
    }
   ],
   "source": [
    "# 반복문 내에서 할당 표현식 사용하기\n",
    "while (line := count) < 5 :\n",
    "    print(line)\n",
    "    count += 1\n",
    "    "
   ]
  },
  {
   "cell_type": "code",
   "execution_count": 6,
   "id": "fc5a04e9",
   "metadata": {},
   "outputs": [
    {
     "name": "stdout",
     "output_type": "stream",
     "text": [
      "[1, 4, 9, 16, 25]\n"
     ]
    }
   ],
   "source": [
    "# 리스트 컴프리헨션에서 할당 표현식 사용하기\n",
    "numbers = [1, 2, 3, 4, 5]\n",
    "squared_numbers = [x**2 for x in numbers ]\n",
    "print(squared_numbers)  # 출력: [16, 25]"
   ]
  },
  {
   "cell_type": "code",
   "execution_count": null,
   "id": "60532a63",
   "metadata": {},
   "outputs": [],
   "source": []
  }
 ],
 "metadata": {
  "kernelspec": {
   "display_name": "Python 3 (ipykernel)",
   "language": "python",
   "name": "python3"
  },
  "language_info": {
   "codemirror_mode": {
    "name": "ipython",
    "version": 3
   },
   "file_extension": ".py",
   "mimetype": "text/x-python",
   "name": "python",
   "nbconvert_exporter": "python",
   "pygments_lexer": "ipython3",
   "version": "3.11.3"
  }
 },
 "nbformat": 4,
 "nbformat_minor": 5
}
