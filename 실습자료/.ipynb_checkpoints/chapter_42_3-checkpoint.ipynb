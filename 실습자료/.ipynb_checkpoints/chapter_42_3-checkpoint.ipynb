{
 "cells": [
  {
   "cell_type": "markdown",
   "metadata": {},
   "source": [
    "## 예제 42-3-1  :  수학산식 계산하기 "
   ]
  },
  {
   "cell_type": "code",
   "execution_count": null,
   "metadata": {},
   "outputs": [],
   "source": []
  },
  {
   "cell_type": "code",
   "execution_count": 35,
   "metadata": {
    "scrolled": true
   },
   "outputs": [
    {
     "name": "stdout",
     "output_type": "stream",
     "text": [
      " 수학산식을 입력하세요 :1000 + 1000\n",
      "2000\n",
      " 수학산식을 입력하세요 :3000 ** 3\n",
      "27000000000\n",
      " 수학산식을 입력하세요 :quit\n"
     ]
    }
   ],
   "source": [
    "while True :\n",
    "    expr = input(\" 수학산식을 입력하세요 :\")\n",
    "    if expr == 'quit' :\n",
    "        break\n",
    "    print(eval(expr))"
   ]
  },
  {
   "cell_type": "code",
   "execution_count": null,
   "metadata": {},
   "outputs": [],
   "source": []
  },
  {
   "cell_type": "code",
   "execution_count": null,
   "metadata": {},
   "outputs": [],
   "source": []
  },
  {
   "cell_type": "code",
   "execution_count": 2,
   "metadata": {},
   "outputs": [],
   "source": [
    "import operator as op"
   ]
  },
  {
   "cell_type": "code",
   "execution_count": 3,
   "metadata": {},
   "outputs": [],
   "source": [
    "d = {'+': op.add, '-':op.sub, '*':op.mul, '/':op.truediv}"
   ]
  },
  {
   "cell_type": "code",
   "execution_count": null,
   "metadata": {},
   "outputs": [],
   "source": []
  },
  {
   "cell_type": "code",
   "execution_count": 8,
   "metadata": {},
   "outputs": [
    {
     "name": "stdout",
     "output_type": "stream",
     "text": [
      "  start or quit  :start\n",
      " 첫번째 값을 넣으세요 :100\n",
      " 두번째 값을 넣으세요 :200\n",
      " 연산자 기호를 넣으세요 :+\n",
      "300\n",
      "  start or quit  :a\n"
     ]
    }
   ],
   "source": [
    "while True :\n",
    "    start = input(\"  start or quit  :\")\n",
    "    if start == 'start' :\n",
    "        var1  = input(\" 첫번째 값을 넣으세요 :\")\n",
    "        var2  = input(\" 두번째 값을 넣으세요 :\")\n",
    "        op_code  = input(\" 연산자 기호를 넣으세요 :\")\n",
    "        exer = d.get(op_code.strip(), op.add)\n",
    "        print(exer(int(var1), int(var2)))\n",
    "    else :\n",
    "        break\n"
   ]
  },
  {
   "cell_type": "code",
   "execution_count": null,
   "metadata": {},
   "outputs": [],
   "source": []
  },
  {
   "cell_type": "code",
   "execution_count": null,
   "metadata": {},
   "outputs": [],
   "source": []
  }
 ],
 "metadata": {
  "kernelspec": {
   "display_name": "Python 3",
   "language": "python",
   "name": "python3"
  },
  "language_info": {
   "codemirror_mode": {
    "name": "ipython",
    "version": 3
   },
   "file_extension": ".py",
   "mimetype": "text/x-python",
   "name": "python",
   "nbconvert_exporter": "python",
   "pygments_lexer": "ipython3",
   "version": "3.7.3"
  }
 },
 "nbformat": 4,
 "nbformat_minor": 2
}
