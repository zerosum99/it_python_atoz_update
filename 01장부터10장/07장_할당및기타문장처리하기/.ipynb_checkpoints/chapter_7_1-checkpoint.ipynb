{
 "cells": [
  {
   "cell_type": "markdown",
   "metadata": {},
   "source": [
    "## 예제 7-1-1 변수에 할당하기"
   ]
  },
  {
   "cell_type": "markdown",
   "metadata": {},
   "source": [
    "## 변수 정의는 할당이지만 변수에 값을 변경하는 것도 할당이다.\n"
   ]
  },
  {
   "cell_type": "code",
   "execution_count": 1,
   "metadata": {},
   "outputs": [],
   "source": [
    "var = 100                ## 변수를 하나 생성하기 위해 값을 할당합니다"
   ]
  },
  {
   "cell_type": "code",
   "execution_count": 2,
   "metadata": {},
   "outputs": [
    {
     "data": {
      "text/plain": [
       "100"
      ]
     },
     "execution_count": 2,
     "metadata": {},
     "output_type": "execute_result"
    }
   ],
   "source": [
    "globals()['var']         ## 새로 만들어진 변수를 전역 이름공간에서 조회합니다"
   ]
  },
  {
   "cell_type": "markdown",
   "metadata": {},
   "source": [
    "## 함수 정의도 실제 변수에 할당이다.\n",
    "\n",
    "- 실제 함수 이름은 함수 객체 내에 저장된다 "
   ]
  },
  {
   "cell_type": "code",
   "execution_count": 5,
   "metadata": {},
   "outputs": [],
   "source": [
    "def func(x,y) :           ## 함수를 정의하면  함수 이름인 func를 변수로 하고 함수 객체를 할당합니다\n",
    "    return x,y             ## 함수는 매개변수를 그대로 반환합니다"
   ]
  },
  {
   "cell_type": "code",
   "execution_count": 6,
   "metadata": {},
   "outputs": [
    {
     "data": {
      "text/plain": [
       "<function __main__.func(x, y)>"
      ]
     },
     "execution_count": 6,
     "metadata": {},
     "output_type": "execute_result"
    }
   ],
   "source": [
    "globals()['func']         ## 전역 이름공간에 함수의 이름으로 조회하면 함수 객체를 반환합니다."
   ]
  },
  {
   "cell_type": "code",
   "execution_count": 9,
   "metadata": {},
   "outputs": [
    {
     "data": {
      "text/plain": [
       "(5, 5)"
      ]
     },
     "execution_count": 9,
     "metadata": {},
     "output_type": "execute_result"
    }
   ],
   "source": [
    "globals()['func'](5,5)    ## 반환되는 함수 객체를 가지고 두 개의 인자를 넣고 바로 실행이 가능합니다"
   ]
  },
  {
   "cell_type": "code",
   "execution_count": 14,
   "metadata": {},
   "outputs": [
    {
     "data": {
      "text/plain": [
       "(5, 5)"
      ]
     },
     "execution_count": 14,
     "metadata": {},
     "output_type": "execute_result"
    }
   ],
   "source": [
    "func(5,5)                     ## 파이썬 함수를 호출할 때는 함수명을 변수로 사용하고 호출연산자 괄호를 사용해서  실행합니다"
   ]
  },
  {
   "cell_type": "markdown",
   "metadata": {},
   "source": [
    "## 클래스 정의도 변수에 할당이다.\n",
    "\n",
    "- 클래스도 하나의 객체이다. \n",
    "- 그래서 클래스 정의도 하나의 클래스 객체를 변수에 할당하는 것이다. "
   ]
  },
  {
   "cell_type": "code",
   "execution_count": 10,
   "metadata": {},
   "outputs": [],
   "source": [
    "class Klass :                                  ## 클래스 정의할 때는 예약어 class, 클래스 이름 Klass 그리고 콜론을 붙여서 머리부를 정의합니다\n",
    "    def __init__(self, name) :            ## 클래스 내에  객체를 초기화하는 함수이름은 __init__이어야 합니다. 이 함수의 매개변수는 self, name 두 개를 정의합니다\n",
    "        self.name = name                  ## self 변수에는 객체 레퍼런스가 들어가고 self.name에  name 을 할당해서 속성을 만듭니다\n",
    "                                                    ## 클래스 정의문도 클래스 이름을 변수로 하고 클래스 객체를  전역 이름공간에 저장합니다. "
   ]
  },
  {
   "cell_type": "code",
   "execution_count": 11,
   "metadata": {},
   "outputs": [
    {
     "data": {
      "text/plain": [
       "__main__.Klass"
      ]
     },
     "execution_count": 11,
     "metadata": {},
     "output_type": "execute_result"
    }
   ],
   "source": [
    "globals()['Klass']                             ## 클래스가 전역 이름공간에 있는지를 확인하기 위해서는 Klass를 문자열로 전달해서 조회하면 클래스가 출력되는 것을 볼 수 있습니다. "
   ]
  },
  {
   "cell_type": "markdown",
   "metadata": {},
   "source": [
    "## 객체의 생성도 변수에 할당하는 것이다.\n",
    "\n",
    "- 전역변수에 저장된 클래스 객체를 조회한 후에 생성자를 실행해서 객체를 생성 "
   ]
  },
  {
   "cell_type": "code",
   "execution_count": 12,
   "metadata": {},
   "outputs": [],
   "source": [
    "k = globals()['Klass'](\"name\")         ## 전역 이름공간에서 조회한 클래스로 객체를 생성할 수 있습니다."
   ]
  },
  {
   "cell_type": "markdown",
   "metadata": {},
   "source": [
    "### 객체가 생성되면 객체의 속성은 객체 내부 네임스페이스에 저장된다.\n"
   ]
  },
  {
   "cell_type": "code",
   "execution_count": 13,
   "metadata": {},
   "outputs": [
    {
     "data": {
      "text/plain": [
       "{'name': 'name'}"
      ]
     },
     "execution_count": 13,
     "metadata": {},
     "output_type": "execute_result"
    }
   ],
   "source": [
    "k.__dict__                                         ##. 객체도 속성을 관리하는 이름공간 __dict__가 있습니다. 이를 조회하면 __int__에 정의한 속성이 들어가 있는 것을 알 수 있습니다"
   ]
  },
  {
   "cell_type": "code",
   "execution_count": null,
   "metadata": {},
   "outputs": [],
   "source": []
  },
  {
   "cell_type": "markdown",
   "metadata": {},
   "source": [
    "## 예제 7-1-2 변수 할당이전에 참조가 되면 예외 발생 "
   ]
  },
  {
   "cell_type": "markdown",
   "metadata": {},
   "source": [
    "## 파이썬은 표현식부터 처리하므로 작성할 때 주의할 점\n",
    "\n",
    "- 일단 변수가 작성되면 무조건 현재 네임스페이스에 조회한다.\n",
    "- 그래서 변수 정의가 안되면 먼저 예외를 발생한다. "
   ]
  },
  {
   "cell_type": "code",
   "execution_count": 15,
   "metadata": {},
   "outputs": [
    {
     "ename": "NameError",
     "evalue": "name 'not_al' is not defined",
     "output_type": "error",
     "traceback": [
      "\u001b[1;31m---------------------------------------------------------------------------\u001b[0m",
      "\u001b[1;31mNameError\u001b[0m                                 Traceback (most recent call last)",
      "\u001b[1;32m<ipython-input-15-2ba6430d8490>\u001b[0m in \u001b[0;36m<module>\u001b[1;34m\u001b[0m\n\u001b[1;32m----> 1\u001b[1;33m \u001b[0mnot_al\u001b[0m \u001b[1;33m=\u001b[0m \u001b[0mnot_al\u001b[0m \u001b[1;33m+\u001b[0m \u001b[1;36m1\u001b[0m\u001b[1;33m\u001b[0m\u001b[1;33m\u001b[0m\u001b[0m\n\u001b[0m",
      "\u001b[1;31mNameError\u001b[0m: name 'not_al' is not defined"
     ]
    }
   ],
   "source": [
    "not_al = not_al + 1                        ## 할당문에 변수의 이름에  동일한 이름의 변수에 1을 더하면 예외가 발생한다.\n",
    "                                                    ## not_al + 1이 먼저 처리되어 이 변수가 이름공간에 만들어져 있는지를 먼저 확인한다"
   ]
  },
  {
   "cell_type": "code",
   "execution_count": null,
   "metadata": {},
   "outputs": [],
   "source": []
  },
  {
   "cell_type": "markdown",
   "metadata": {},
   "source": [
    "## 예제 7-1-3 여러 개 값을 여러 변수에 할당하기  "
   ]
  },
  {
   "cell_type": "markdown",
   "metadata": {},
   "source": [
    "## 구조 분해 \n",
    "\n",
    "- 여러 개의 원소를 가진 것은 원소별로 변수에 할당이 가능하다.\n",
    "- 이를 구조 분해라고 한다. "
   ]
  },
  {
   "cell_type": "code",
   "execution_count": 16,
   "metadata": {},
   "outputs": [],
   "source": [
    "a, b, c = [1,2,3]       ## 변수 3개를 할당하고  3개의 원소를 가진 리스트를 할당합니다.\n",
    "                              ## 변수와 리스트의 원소의 개수가 1대1로 매핑되어 각 변수에 원소 하나씩 할당됩니다."
   ]
  },
  {
   "cell_type": "code",
   "execution_count": 17,
   "metadata": {},
   "outputs": [
    {
     "data": {
      "text/plain": [
       "(1, 2, 3)"
      ]
     },
     "execution_count": 17,
     "metadata": {},
     "output_type": "execute_result"
    }
   ],
   "source": [
    "a, b, c                    ## 변수를 조회하면 변수에 하나의 값이 할당된 것을 알 수 있습니다"
   ]
  },
  {
   "cell_type": "code",
   "execution_count": 18,
   "metadata": {},
   "outputs": [],
   "source": [
    "d, e, f = \"가을이\"       ## 3개의 변수와 3개의 문자를 가진 문자열을 할당하면 각 변수 별로 하나의 문자를 가진 문자열로 할당이 됩니다"
   ]
  },
  {
   "cell_type": "code",
   "execution_count": 19,
   "metadata": {},
   "outputs": [
    {
     "data": {
      "text/plain": [
       "('가', '을', '이')"
      ]
     },
     "execution_count": 19,
     "metadata": {},
     "output_type": "execute_result"
    }
   ],
   "source": [
    "d, e, f"
   ]
  },
  {
   "cell_type": "markdown",
   "metadata": {},
   "source": [
    "## 구조분해 시 주의할 점\n",
    "\n",
    "- 좌측과 우측의 개수가 맞아야 한다. "
   ]
  },
  {
   "cell_type": "code",
   "execution_count": 20,
   "metadata": {},
   "outputs": [
    {
     "ename": "ValueError",
     "evalue": "too many values to unpack (expected 2)",
     "output_type": "error",
     "traceback": [
      "\u001b[1;31m---------------------------------------------------------------------------\u001b[0m",
      "\u001b[1;31mValueError\u001b[0m                                Traceback (most recent call last)",
      "\u001b[1;32m<ipython-input-20-0b4403562722>\u001b[0m in \u001b[0;36m<module>\u001b[1;34m\u001b[0m\n\u001b[1;32m----> 1\u001b[1;33m \u001b[0mx\u001b[0m\u001b[1;33m,\u001b[0m\u001b[0my\u001b[0m \u001b[1;33m=\u001b[0m \u001b[1;33m(\u001b[0m\u001b[1;36m1\u001b[0m\u001b[1;33m,\u001b[0m\u001b[1;36m2\u001b[0m\u001b[1;33m,\u001b[0m\u001b[1;36m3\u001b[0m\u001b[1;33m)\u001b[0m\u001b[1;33m\u001b[0m\u001b[1;33m\u001b[0m\u001b[0m\n\u001b[0m",
      "\u001b[1;31mValueError\u001b[0m: too many values to unpack (expected 2)"
     ]
    }
   ],
   "source": [
    "x,y = (1,2,3)       ##변수와 튜플 개수가 일대일로 매핑이 안 되면 예외가 발생합니다"
   ]
  },
  {
   "cell_type": "markdown",
   "metadata": {},
   "source": [
    "## 구조분해시 갯수가 안 맞으면 \n",
    "\n",
    "- 좌측의 변수 앞에 별표를 붙여서 나머지 원소를 다 처리한다. "
   ]
  },
  {
   "cell_type": "code",
   "execution_count": 21,
   "metadata": {},
   "outputs": [],
   "source": [
    "x, *y  = (1,2,3)       ## 2개의 변수에 3개의 원소를 가진 튜플을 할당해도 예외가 없다. \n",
    "                             ## 변수 앞에 *표를 붙이면 가변으로 값을 받을 수 있기 때문에 1 대 다 매핑도 처리된다"
   ]
  },
  {
   "cell_type": "code",
   "execution_count": 22,
   "metadata": {},
   "outputs": [
    {
     "data": {
      "text/plain": [
       "(1, [2, 3])"
      ]
     },
     "execution_count": 22,
     "metadata": {},
     "output_type": "execute_result"
    }
   ],
   "source": [
    "x, y                       ## 두 개의 변수에 할당된 것을 조회하면 하나는 1이고 다음 것은 리스트 객체인 것을 알 수 있다"
   ]
  },
  {
   "cell_type": "markdown",
   "metadata": {},
   "source": [
    "## 변수 스와핑\n",
    "\n",
    "- 동일한 개수의 구조분해를 동일한 변수의 위치를 바꿔서 처리하면 자동으로 값이 교체된다 "
   ]
  },
  {
   "cell_type": "code",
   "execution_count": 23,
   "metadata": {},
   "outputs": [],
   "source": [
    "x,y = y,x                ## 변수간 값을 이동하는 스와핑 처리일 때는 변경되는 변수와  할당되는  변수의 위치를 바꿀 수 있습니다 "
   ]
  },
  {
   "cell_type": "code",
   "execution_count": 24,
   "metadata": {},
   "outputs": [
    {
     "data": {
      "text/plain": [
       "([2, 3], 1)"
      ]
     },
     "execution_count": 24,
     "metadata": {},
     "output_type": "execute_result"
    }
   ],
   "source": [
    "x,y                       ## 두 개의 변수 값이 변경된 것을 알 수 있다"
   ]
  },
  {
   "cell_type": "code",
   "execution_count": null,
   "metadata": {},
   "outputs": [],
   "source": []
  }
 ],
 "metadata": {
  "kernelspec": {
   "display_name": "Python 3 (ipykernel)",
   "language": "python",
   "name": "python3"
  },
  "language_info": {
   "codemirror_mode": {
    "name": "ipython",
    "version": 3
   },
   "file_extension": ".py",
   "mimetype": "text/x-python",
   "name": "python",
   "nbconvert_exporter": "python",
   "pygments_lexer": "ipython3",
   "version": "3.11.3"
  }
 },
 "nbformat": 4,
 "nbformat_minor": 2
}
