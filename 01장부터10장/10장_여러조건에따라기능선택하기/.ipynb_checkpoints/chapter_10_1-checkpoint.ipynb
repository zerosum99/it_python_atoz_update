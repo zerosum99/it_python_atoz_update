{
 "cells": [
  {
   "cell_type": "markdown",
   "metadata": {},
   "source": [
    "## 예제 10-1-1 삼항연산자 처리"
   ]
  },
  {
   "cell_type": "markdown",
   "metadata": {},
   "source": [
    "## 단순한 조건식을 인라인 조건문으로 처리\n",
    "\n",
    "- 조건문이 아니라 조건표현식으로 처리됨 "
   ]
  },
  {
   "cell_type": "markdown",
   "metadata": {},
   "source": [
    "### 특정 조건을 참과 거짓으로 처리 "
   ]
  },
  {
   "cell_type": "code",
   "execution_count": 1,
   "metadata": {},
   "outputs": [],
   "source": [
    "x = 10"
   ]
  },
  {
   "cell_type": "code",
   "execution_count": 2,
   "metadata": {},
   "outputs": [
    {
     "name": "stdout",
     "output_type": "stream",
     "text": [
      " x 는 10보다 크거나 같습니다. \n"
     ]
    }
   ],
   "source": [
    "if x < 10 :                                                 ##  x < 10 조건이 거짓이므로  else 문을 처리합니다.\n",
    "    print(\" x 는 10보다 작습니다. \")\n",
    "else :\n",
    "    print(\" x 는 10보다 크거나 같습니다. \")"
   ]
  },
  {
   "cell_type": "markdown",
   "metadata": {},
   "source": [
    "### 인라인으로 표시 \n",
    "\n",
    "- 인라인 표시할 때는 콜론 표기는 하지 않는다.\n",
    "- 참일 때 실행하는 문장이 먼저 오고 그 다음에 조건문이 온다. "
   ]
  },
  {
   "cell_type": "code",
   "execution_count": 4,
   "metadata": {},
   "outputs": [
    {
     "name": "stdout",
     "output_type": "stream",
     "text": [
      " x 는 10보다 크거나 같습니다. \n"
     ]
    }
   ],
   "source": [
    "print(\" x 는 10보다 작습니다. \") if x < 10  else  print(\" x 는 10보다 크거나 같습니다. \")    ## 일반 제어문을 삼항 연산자로 변형할 때는  참인 결과를 먼저 작성한 후에 인라인으로  \n",
    "                                                                                                                                      ## if 문을 작성한 후에 else 문을 추가합니다"
   ]
  },
  {
   "cell_type": "markdown",
   "metadata": {},
   "source": [
    "## 간단한 인라인 처리\n",
    "\n",
    "- 자세히 보면 다른 언어의 삼항연산자(? : )와 유사하다"
   ]
  },
  {
   "cell_type": "code",
   "execution_count": 5,
   "metadata": {},
   "outputs": [],
   "source": [
    "a = 10\n",
    "b = 5"
   ]
  },
  {
   "cell_type": "code",
   "execution_count": 7,
   "metadata": {},
   "outputs": [],
   "source": [
    "c = a if a > b else b                             ## 두 수를 비교하는 결과를 삼항연산자로 표시합니다. 결과가 참이라 변수 a 가 결과로 반환합니다 "
   ]
  },
  {
   "cell_type": "code",
   "execution_count": 8,
   "metadata": {},
   "outputs": [
    {
     "data": {
      "text/plain": [
       "10"
      ]
     },
     "execution_count": 8,
     "metadata": {},
     "output_type": "execute_result"
    }
   ],
   "source": [
    "c"
   ]
  },
  {
   "cell_type": "code",
   "execution_count": 9,
   "metadata": {},
   "outputs": [],
   "source": [
    "c = a if a < b else b                         ## 두 수를 비교하는 결과를 삼항연산자로 표시합니다. 결과가 거짓이라 변수 b 가 결과로 반환합니다 "
   ]
  },
  {
   "cell_type": "code",
   "execution_count": 10,
   "metadata": {},
   "outputs": [
    {
     "data": {
      "text/plain": [
       "5"
      ]
     },
     "execution_count": 10,
     "metadata": {},
     "output_type": "execute_result"
    }
   ],
   "source": [
    "c"
   ]
  },
  {
   "cell_type": "code",
   "execution_count": null,
   "metadata": {},
   "outputs": [],
   "source": []
  }
 ],
 "metadata": {
  "kernelspec": {
   "display_name": "Python 3 (ipykernel)",
   "language": "python",
   "name": "python3"
  },
  "language_info": {
   "codemirror_mode": {
    "name": "ipython",
    "version": 3
   },
   "file_extension": ".py",
   "mimetype": "text/x-python",
   "name": "python",
   "nbconvert_exporter": "python",
   "pygments_lexer": "ipython3",
   "version": "3.11.3"
  }
 },
 "nbformat": 4,
 "nbformat_minor": 2
}
