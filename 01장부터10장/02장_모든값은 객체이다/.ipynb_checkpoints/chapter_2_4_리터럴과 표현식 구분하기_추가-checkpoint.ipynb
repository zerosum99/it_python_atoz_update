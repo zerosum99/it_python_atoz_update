{
 "cells": [
  {
   "cell_type": "code",
   "execution_count": null,
   "id": "9afa4665",
   "metadata": {},
   "outputs": [],
   "source": []
  },
  {
   "cell_type": "code",
   "execution_count": null,
   "id": "63869150",
   "metadata": {},
   "outputs": [],
   "source": []
  },
  {
   "cell_type": "markdown",
   "id": "e48eec3a",
   "metadata": {},
   "source": [
    "## 리터럴(Literal) \n",
    "\n",
    "- 코드에서 값을 직접 나타내는 고정된 값입니다. \n",
    "- 예를 들어, 정수 리터럴인 42, 실수 리터럴인 3.14, 문자열 리터럴인 \"Hello, World!\" 등이 있습니다. \n",
    "- 리터럴은 데이터 자체를 나타내는 것으로, 계산이나 평가가 필요하지 않습니다.\n"
   ]
  },
  {
   "cell_type": "code",
   "execution_count": 1,
   "id": "e1832386",
   "metadata": {},
   "outputs": [],
   "source": [
    "# 정수 리터럴\n",
    "x = 42\n",
    "\n",
    "# 실수 리터럴\n",
    "y = 3.14\n",
    "\n",
    "# 문자열 리터럴\n",
    "name = \"Alice\"\n"
   ]
  },
  {
   "cell_type": "markdown",
   "id": "42b7f6ed",
   "metadata": {},
   "source": [
    "## 표현식(Expression)\n",
    "\n",
    "- 하나 이상의 값, 변수, 연산자, 함수 호출 등의 조합으로 이루어진 코드 구문입니다. \n",
    "- 표현식은 평가(Evaluation)되어 값을 생성합니다. 예를 들어, 2 + 3는 덧셈 연산자를 사용한 표현식입니다. \n",
    "- 이 표현식은 평가되어 결과 값인 5를 생성합니다."
   ]
  },
  {
   "cell_type": "code",
   "execution_count": 2,
   "id": "59c3651d",
   "metadata": {},
   "outputs": [],
   "source": [
    "# 덧셈 연산 표현식\n",
    "result = x + y\n",
    "\n",
    "# 함수 호출 표현식\n",
    "length = len(name)\n",
    "\n",
    "# 리스트 컴프리헨션 표현식\n",
    "squared_numbers = [x**2 for x in range(1, 5)]"
   ]
  },
  {
   "cell_type": "code",
   "execution_count": null,
   "id": "894ceaff",
   "metadata": {},
   "outputs": [],
   "source": []
  }
 ],
 "metadata": {
  "kernelspec": {
   "display_name": "Python 3 (ipykernel)",
   "language": "python",
   "name": "python3"
  },
  "language_info": {
   "codemirror_mode": {
    "name": "ipython",
    "version": 3
   },
   "file_extension": ".py",
   "mimetype": "text/x-python",
   "name": "python",
   "nbconvert_exporter": "python",
   "pygments_lexer": "ipython3",
   "version": "3.11.3"
  }
 },
 "nbformat": 4,
 "nbformat_minor": 5
}
