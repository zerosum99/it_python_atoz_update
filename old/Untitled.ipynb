{
 "cells": [
  {
   "cell_type": "code",
   "execution_count": 3,
   "metadata": {},
   "outputs": [
    {
     "name": "stdout",
     "output_type": "stream",
     "text": [
      "Circle.draw\n",
      "Circle.erase\n",
      "Circle.draw\n",
      "Circle.erase\n",
      "Square.draw\n",
      "Square.erase\n",
      "Square.draw\n",
      "Square.erase\n",
      "Circle.draw\n",
      "Circle.erase\n",
      "Square.draw\n",
      "Square.erase\n",
      "Circle.draw\n",
      "Circle.erase\n"
     ]
    }
   ],
   "source": [
    "import random\n",
    "\n",
    "class Shape(object):\n",
    "    # Create based on class name:\n",
    "    def factory(type):\n",
    "        #return eval(type + \"()\")\n",
    "        if type == \"Circle\": return Circle()\n",
    "        if type == \"Square\": return Square()\n",
    "        assert 0, \"Bad shape creation: \" + type\n",
    "    factory = staticmethod(factory)\n",
    "\n",
    "class Circle(Shape):\n",
    "    def draw(self): print(\"Circle.draw\")\n",
    "    def erase(self): print(\"Circle.erase\")\n",
    "\n",
    "class Square(Shape):\n",
    "    def draw(self): print(\"Square.draw\")\n",
    "    def erase(self): print(\"Square.erase\")\n",
    "\n",
    "# Generate shape name strings:\n",
    "def shapeNameGen(n):\n",
    "    types = Shape.__subclasses__()\n",
    "    for i in range(n):\n",
    "        yield random.choice(types).__name__\n",
    "\n",
    "shapes = [ Shape.factory(i) for i in shapeNameGen(7)]\n",
    "\n",
    "for shape in shapes:\n",
    "    shape.draw()\n",
    "    shape.erase()"
   ]
  },
  {
   "cell_type": "code",
   "execution_count": 7,
   "metadata": {},
   "outputs": [
    {
     "data": {
      "text/plain": [
       "[bool,\n",
       " <enum 'IntEnum'>,\n",
       " <enum 'IntFlag'>,\n",
       " sre_constants._NamedIntConstant,\n",
       " subprocess.Handle]"
      ]
     },
     "execution_count": 7,
     "metadata": {},
     "output_type": "execute_result"
    }
   ],
   "source": [
    "int.__subclasses__()"
   ]
  },
  {
   "cell_type": "code",
   "execution_count": null,
   "metadata": {},
   "outputs": [],
   "source": []
  },
  {
   "cell_type": "code",
   "execution_count": 1,
   "metadata": {},
   "outputs": [],
   "source": [
    "import sys"
   ]
  },
  {
   "cell_type": "code",
   "execution_count": 2,
   "metadata": {},
   "outputs": [
    {
     "data": {
      "text/plain": [
       "'3.7.3 (default, Mar 27 2019, 16:54:48) \\n[Clang 4.0.1 (tags/RELEASE_401/final)]'"
      ]
     },
     "execution_count": 2,
     "metadata": {},
     "output_type": "execute_result"
    }
   ],
   "source": [
    "sys.version"
   ]
  },
  {
   "cell_type": "code",
   "execution_count": null,
   "metadata": {},
   "outputs": [],
   "source": []
  }
 ],
 "metadata": {
  "kernelspec": {
   "display_name": "Python 3",
   "language": "python",
   "name": "python3"
  },
  "language_info": {
   "codemirror_mode": {
    "name": "ipython",
    "version": 3
   },
   "file_extension": ".py",
   "mimetype": "text/x-python",
   "name": "python",
   "nbconvert_exporter": "python",
   "pygments_lexer": "ipython3",
   "version": "3.7.3"
  }
 },
 "nbformat": 4,
 "nbformat_minor": 2
}
