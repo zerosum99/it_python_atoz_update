{
 "cells": [
  {
   "cell_type": "markdown",
   "metadata": {},
   "source": [
    "## 예제 30-3-1  :   싱글턴 패턴  "
   ]
  },
  {
   "cell_type": "code",
   "execution_count": 115,
   "metadata": {},
   "outputs": [],
   "source": [
    "class Single :\n",
    "    @staticmethod\n",
    "    def __new__(cls,name,age) :\n",
    "        print(\" 객체를 하나 만듭니다.\")\n",
    "        if hasattr(cls, \"_instance\") :\n",
    "            instance = cls._instance\n",
    "        else :\n",
    "            instance = object.__new__(cls)\n",
    "            cls._instance = instance\n",
    "        return instance\n",
    "    \n",
    "    def __init__(self,name,age) :\n",
    "        print(\" 객체의 속성을  초기화합니다.\")\n",
    "        if hasattr(type(self), \"_init\") :\n",
    "            pass\n",
    "        else : \n",
    "            self.name = name\n",
    "            self.age = age\n",
    "            type(self)._init = \"1\"\n"
   ]
  },
  {
   "cell_type": "code",
   "execution_count": null,
   "metadata": {},
   "outputs": [],
   "source": []
  },
  {
   "cell_type": "code",
   "execution_count": 116,
   "metadata": {},
   "outputs": [
    {
     "name": "stdout",
     "output_type": "stream",
     "text": [
      " 객체를 하나 만듭니다.\n",
      " 객체의 속성을  초기화합니다.\n"
     ]
    }
   ],
   "source": [
    "a = Single(\"혼자만 있기\", 20)"
   ]
  },
  {
   "cell_type": "code",
   "execution_count": 117,
   "metadata": {},
   "outputs": [
    {
     "name": "stdout",
     "output_type": "stream",
     "text": [
      " 객체를 하나 만듭니다.\n",
      " 객체의 속성을  초기화합니다.\n"
     ]
    }
   ],
   "source": [
    "b = Single(\"같이 있기\", 30)"
   ]
  },
  {
   "cell_type": "code",
   "execution_count": null,
   "metadata": {},
   "outputs": [],
   "source": []
  },
  {
   "cell_type": "code",
   "execution_count": 118,
   "metadata": {},
   "outputs": [
    {
     "data": {
      "text/plain": [
       "'혼자만 있기'"
      ]
     },
     "execution_count": 118,
     "metadata": {},
     "output_type": "execute_result"
    }
   ],
   "source": [
    "a.name"
   ]
  },
  {
   "cell_type": "code",
   "execution_count": 119,
   "metadata": {},
   "outputs": [
    {
     "data": {
      "text/plain": [
       "'혼자만 있기'"
      ]
     },
     "execution_count": 119,
     "metadata": {},
     "output_type": "execute_result"
    }
   ],
   "source": [
    "b.name"
   ]
  },
  {
   "cell_type": "code",
   "execution_count": 120,
   "metadata": {},
   "outputs": [
    {
     "data": {
      "text/plain": [
       "True"
      ]
     },
     "execution_count": 120,
     "metadata": {},
     "output_type": "execute_result"
    }
   ],
   "source": [
    "a is b"
   ]
  },
  {
   "cell_type": "code",
   "execution_count": null,
   "metadata": {},
   "outputs": [],
   "source": []
  }
 ],
 "metadata": {
  "kernelspec": {
   "display_name": "Python 3",
   "language": "python",
   "name": "python3"
  },
  "language_info": {
   "codemirror_mode": {
    "name": "ipython",
    "version": 3
   },
   "file_extension": ".py",
   "mimetype": "text/x-python",
   "name": "python",
   "nbconvert_exporter": "python",
   "pygments_lexer": "ipython3",
   "version": "3.7.3"
  }
 },
 "nbformat": 4,
 "nbformat_minor": 2
}
