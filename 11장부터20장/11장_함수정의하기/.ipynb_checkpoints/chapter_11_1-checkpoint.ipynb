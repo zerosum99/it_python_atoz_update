{
 "cells": [
  {
   "cell_type": "markdown",
   "metadata": {},
   "source": [
    "## 예제 11-1-1 함수 정의문 사용하기"
   ]
  },
  {
   "cell_type": "markdown",
   "metadata": {},
   "source": [
    "## 함수 정의 \n",
    "\n",
    "- 함수 정의도 변수 정의처럼 함수이름이 식별자로 처리\n",
    "- 그 다음 함수 객체를 함수 이름의 식별자에 할당\n"
   ]
  },
  {
   "cell_type": "markdown",
   "metadata": {},
   "source": [
    "### 아무것도 안하는 함수 정의 \n",
    "\n",
    "- pass/ ... 을 코드블럭에 사용해서 처리 "
   ]
  },
  {
   "cell_type": "code",
   "execution_count": 1,
   "metadata": {},
   "outputs": [],
   "source": [
    "def func() :            ## 예약어 def와 함수 이름 func 그리고 빈 매개변수 표시인 괄호를 쓰고 머리부를 종료하는 콜론을 붙인다\n",
    "    pass                ## 함수 내부에 아무런 로직을 작성하지 않을 경우에도 pass 문을 정의한다"
   ]
  },
  {
   "cell_type": "code",
   "execution_count": 2,
   "metadata": {},
   "outputs": [],
   "source": [
    "f = func()               ## 함수를 실행한 후에 변수에 할당한다"
   ]
  },
  {
   "cell_type": "code",
   "execution_count": 5,
   "metadata": {},
   "outputs": [
    {
     "name": "stdout",
     "output_type": "stream",
     "text": [
      "None\n"
     ]
    }
   ],
   "source": [
    "print(f)                 ## 함수 정의할 때 아무것도 반환하지 않아도 None은 자동으로 반환한다"
   ]
  },
  {
   "cell_type": "markdown",
   "metadata": {},
   "source": [
    "### 생략기호를 사용한 함수정의 "
   ]
  },
  {
   "cell_type": "code",
   "execution_count": 2,
   "metadata": {},
   "outputs": [],
   "source": [
    "def func1() :            ## 예약어 def와 함수 이름 func 그리고 빈 매개변수 표시인 괄호를 쓰고 머리부를 종료하는 콜론을 붙인다\n",
    "    ...   "
   ]
  },
  {
   "cell_type": "code",
   "execution_count": 3,
   "metadata": {},
   "outputs": [],
   "source": [
    "func1()"
   ]
  },
  {
   "cell_type": "markdown",
   "metadata": {},
   "source": [
    "### 함수이름은 실제 __name__ 속성에 관리"
   ]
  },
  {
   "cell_type": "code",
   "execution_count": 7,
   "metadata": {},
   "outputs": [
    {
     "data": {
      "text/plain": [
       "'func'"
      ]
     },
     "execution_count": 7,
     "metadata": {},
     "output_type": "execute_result"
    }
   ],
   "source": [
    "func.__name__            ## 함수 이름을 확인하기 위해 __name__ 속성으로 확인하면 문자열 func을 출력한다"
   ]
  },
  {
   "cell_type": "code",
   "execution_count": null,
   "metadata": {},
   "outputs": [],
   "source": []
  },
  {
   "cell_type": "markdown",
   "metadata": {},
   "source": [
    "## 함수는 1급 객체\n",
    "\n",
    "- 1급객체는 반드시 객체를 만든 클래스가 존재\n",
    "- 파이썬의 모든 자료형은 클래스이다.\n",
    "- 파이썬에 타입을 관리하는 모듈이 types"
   ]
  },
  {
   "cell_type": "markdown",
   "metadata": {},
   "source": [
    "### 함수의 클래스 확인 "
   ]
  },
  {
   "cell_type": "code",
   "execution_count": 3,
   "metadata": {},
   "outputs": [],
   "source": [
    "import types                       ##  파이썬 내부 관리용 클래스를 가진 모듈을 import 한다"
   ]
  },
  {
   "cell_type": "code",
   "execution_count": 4,
   "metadata": {},
   "outputs": [
    {
     "data": {
      "text/plain": [
       "True"
      ]
     },
     "execution_count": 4,
     "metadata": {},
     "output_type": "execute_result"
    }
   ],
   "source": [
    "type(func) == types.FunctionType      ## 함수 객체의 클래스가 types.FunctionType 클래스와 동일한지를 확인한다"
   ]
  },
  {
   "cell_type": "code",
   "execution_count": null,
   "metadata": {},
   "outputs": [],
   "source": []
  },
  {
   "cell_type": "code",
   "execution_count": 8,
   "metadata": {},
   "outputs": [],
   "source": [
    "def return_() :                    ## 아무런 매개변수가 없는 함수를 정의한다\n",
    "    return \"반환값\"                ## 함수의 로직은 문자열을 반환한다"
   ]
  },
  {
   "cell_type": "code",
   "execution_count": 9,
   "metadata": {},
   "outputs": [
    {
     "data": {
      "text/plain": [
       "'반환값'"
      ]
     },
     "execution_count": 9,
     "metadata": {},
     "output_type": "execute_result"
    }
   ],
   "source": [
    "return_()                           ## 함수를 실행하면 문자열이 출력한다"
   ]
  },
  {
   "cell_type": "markdown",
   "metadata": {},
   "source": [
    "## 함수 반환값의 자료형 확인\n",
    "\n",
    "- 함수 반환값은 하나의 객체\n",
    "- 여러 개의 반환 값을 할 경우 쉼표로 구분\n",
    "- 실제 튜플 객체로 반환한다. "
   ]
  },
  {
   "cell_type": "code",
   "execution_count": 10,
   "metadata": {},
   "outputs": [],
   "source": [
    "def func_() :                      ## 아무런 매개변수가 없는 함수를 정의한다.\n",
    "    return 1,2,3                   ## 정수 3개를 반환한다"
   ]
  },
  {
   "cell_type": "code",
   "execution_count": 11,
   "metadata": {},
   "outputs": [],
   "source": [
    "f_ = func_()                       ## 함수를 실행하고 변수에 할당한다"
   ]
  },
  {
   "cell_type": "code",
   "execution_count": 13,
   "metadata": {},
   "outputs": [
    {
     "data": {
      "text/plain": [
       "((1, 2, 3), tuple)"
      ]
     },
     "execution_count": 13,
     "metadata": {},
     "output_type": "execute_result"
    }
   ],
   "source": [
    "f_, type(f_)                       ## 반환된 값은 정수 3개를 원소로 갖는 튜플이다.  이는 여러 개의 값을 반환하면 하나의 튜플로 반환한다"
   ]
  },
  {
   "cell_type": "code",
   "execution_count": null,
   "metadata": {},
   "outputs": [],
   "source": []
  }
 ],
 "metadata": {
  "kernelspec": {
   "display_name": "Python 3 (ipykernel)",
   "language": "python",
   "name": "python3"
  },
  "language_info": {
   "codemirror_mode": {
    "name": "ipython",
    "version": 3
   },
   "file_extension": ".py",
   "mimetype": "text/x-python",
   "name": "python",
   "nbconvert_exporter": "python",
   "pygments_lexer": "ipython3",
   "version": "3.11.3"
  }
 },
 "nbformat": 4,
 "nbformat_minor": 2
}
